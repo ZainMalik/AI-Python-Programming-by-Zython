{
 "cells": [
  {
   "cell_type": "markdown",
   "metadata": {},
   "source": [
    "# Evaluating Model Performance\n",
    "In this exercise, you will determine the performance of a machine learning model based on its accuracy. The accuracy of the model will be used to classify its performance into different categories.\n",
    "\n",
    "## Performance Categories:\n",
    "\n",
    "0.0 - 0.5: Poor performance\n",
    "0.51 - 0.75: Average performance\n",
    "0.76 - 0.90: Good performance\n",
    "0.91 - 1.0: Excellent performance\n",
    "\n",
    "### Problem Statement\n",
    "Write an if statement that lets a data scientist know the performance category of their machine learning model based on the accuracy score, which is stored in the float variable accuracy.\n",
    "\n",
    "### Instructions:\n",
    "Assign the result variable to a string holding the appropriate message based on the value of accuracy.\n",
    "If the model's performance is classified as \"Poor performance\", the message should state \"Model performance: Poor.\"\n",
    "If the model's performance is classified as \"Average performance\", the message should state \"Model performance: Average.\"\n",
    "If the model's performance is classified as \"Good performance\", the message should state \"Model performance: Good.\"\n",
    "If the model's performance is classified as \"Excellent performance\", the message should state \"Model performance: Excellent.\""
   ]
  },
  {
   "cell_type": "code",
   "execution_count": 12,
   "metadata": {},
   "outputs": [
    {
     "name": "stdout",
     "output_type": "stream",
     "text": [
      "Model performance: Good.\n",
      "Nice work!\n"
     ]
    }
   ],
   "source": [
    "accuracy = 0.85  # use this input to make your submission\n",
    "\n",
    "if 0.0 <= accuracy <= 0.5:\n",
    "    result = \"Model performance: Poor.\"\n",
    "elif 0.51 <= accuracy <= 0.75:\n",
    "    result = \"Model performance: Average.\"\n",
    "elif 0.76 <= accuracy <= 0.90:\n",
    "    result = \"Model performance: Good.\"\n",
    "elif 0.91 <= accuracy <= 1:\n",
    "    result = \"Model performance: Excellent.\"\n",
    "else:\n",
    "    result = \"Invalid accuracy score.\"\n",
    "\n",
    "# Check the result\n",
    "print(result)\n",
    "\n",
    "# Notebook grading\n",
    "if result == \"Model performance: Good.\":\n",
    "    print(\"Nice work!\")\n",
    "else:\n",
    "    print(\"Not quite! Are your result strings formatted correctly?\")"
   ]
  },
  {
   "cell_type": "code",
   "execution_count": null,
   "metadata": {},
   "outputs": [],
   "source": []
  }
 ],
 "metadata": {
  "kernelspec": {
   "display_name": "Python 3 (ipykernel)",
   "language": "python",
   "name": "python3"
  },
  "language_info": {
   "codemirror_mode": {
    "name": "ipython",
    "version": 3
   },
   "file_extension": ".py",
   "mimetype": "text/x-python",
   "name": "python",
   "nbconvert_exporter": "python",
   "pygments_lexer": "ipython3",
   "version": "3.10.13"
  }
 },
 "nbformat": 4,
 "nbformat_minor": 2
}
